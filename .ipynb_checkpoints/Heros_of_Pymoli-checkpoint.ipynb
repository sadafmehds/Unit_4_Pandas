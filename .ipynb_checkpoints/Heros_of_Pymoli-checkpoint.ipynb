{
 "cells": [
  {
   "cell_type": "code",
   "execution_count": 2,
   "metadata": {},
   "outputs": [],
   "source": [
    "import os\n",
    "import pandas as pd\n",
    "import numpy as np\n",
    "import json\n",
    "from pprint import pprint\n",
    "#import sys\n",
    "#print(sys.version)\n",
    "\n",
    "json_path = os.path.join('Resources/purchase_data.json')\n",
    "with open(json_path) as json_data:\n",
    "    data=json.load(json_data)\n",
    "    json_data.close()\n",
    "    #pprint(data)\n"
   ]
  },
  {
   "cell_type": "code",
   "execution_count": 3,
   "metadata": {},
   "outputs": [
    {
     "data": {
      "text/html": [
       "<div>\n",
       "<style scoped>\n",
       "    .dataframe tbody tr th:only-of-type {\n",
       "        vertical-align: middle;\n",
       "    }\n",
       "\n",
       "    .dataframe tbody tr th {\n",
       "        vertical-align: top;\n",
       "    }\n",
       "\n",
       "    .dataframe thead th {\n",
       "        text-align: right;\n",
       "    }\n",
       "</style>\n",
       "<table border=\"1\" class=\"dataframe\">\n",
       "  <thead>\n",
       "    <tr style=\"text-align: right;\">\n",
       "      <th></th>\n",
       "      <th>Age</th>\n",
       "      <th>Gender</th>\n",
       "      <th>Item ID</th>\n",
       "      <th>Item Name</th>\n",
       "      <th>Price</th>\n",
       "      <th>SN</th>\n",
       "    </tr>\n",
       "  </thead>\n",
       "  <tbody>\n",
       "    <tr>\n",
       "      <th>0</th>\n",
       "      <td>38</td>\n",
       "      <td>Male</td>\n",
       "      <td>165</td>\n",
       "      <td>Bone Crushing Silver Skewer</td>\n",
       "      <td>3.37</td>\n",
       "      <td>Aelalis34</td>\n",
       "    </tr>\n",
       "    <tr>\n",
       "      <th>1</th>\n",
       "      <td>21</td>\n",
       "      <td>Male</td>\n",
       "      <td>119</td>\n",
       "      <td>Stormbringer, Dark Blade of Ending Misery</td>\n",
       "      <td>2.32</td>\n",
       "      <td>Eolo46</td>\n",
       "    </tr>\n",
       "    <tr>\n",
       "      <th>2</th>\n",
       "      <td>34</td>\n",
       "      <td>Male</td>\n",
       "      <td>174</td>\n",
       "      <td>Primitive Blade</td>\n",
       "      <td>2.46</td>\n",
       "      <td>Assastnya25</td>\n",
       "    </tr>\n",
       "    <tr>\n",
       "      <th>3</th>\n",
       "      <td>21</td>\n",
       "      <td>Male</td>\n",
       "      <td>92</td>\n",
       "      <td>Final Critic</td>\n",
       "      <td>1.36</td>\n",
       "      <td>Pheusrical25</td>\n",
       "    </tr>\n",
       "    <tr>\n",
       "      <th>4</th>\n",
       "      <td>23</td>\n",
       "      <td>Male</td>\n",
       "      <td>63</td>\n",
       "      <td>Stormfury Mace</td>\n",
       "      <td>1.27</td>\n",
       "      <td>Aela59</td>\n",
       "    </tr>\n",
       "  </tbody>\n",
       "</table>\n",
       "</div>"
      ],
      "text/plain": [
       "   Age Gender  Item ID                                  Item Name  Price  \\\n",
       "0   38   Male      165                Bone Crushing Silver Skewer   3.37   \n",
       "1   21   Male      119  Stormbringer, Dark Blade of Ending Misery   2.32   \n",
       "2   34   Male      174                            Primitive Blade   2.46   \n",
       "3   21   Male       92                               Final Critic   1.36   \n",
       "4   23   Male       63                             Stormfury Mace   1.27   \n",
       "\n",
       "             SN  \n",
       "0     Aelalis34  \n",
       "1        Eolo46  \n",
       "2   Assastnya25  \n",
       "3  Pheusrical25  \n",
       "4        Aela59  "
      ]
     },
     "execution_count": 3,
     "metadata": {},
     "output_type": "execute_result"
    }
   ],
   "source": [
    "game_data=pd.DataFrame(data)\n",
    "game_data.head()"
   ]
  },
  {
   "cell_type": "code",
   "execution_count": null,
   "metadata": {},
   "outputs": [],
   "source": [
    "#PLAYER COUNT"
   ]
  },
  {
   "cell_type": "code",
   "execution_count": 4,
   "metadata": {},
   "outputs": [
    {
     "data": {
      "text/plain": [
       "573"
      ]
     },
     "execution_count": 4,
     "metadata": {},
     "output_type": "execute_result"
    }
   ],
   "source": [
    "#Total number of players\n",
    "players=game_data[\"SN\"].value_counts()\n",
    "total_players=len(players)\n",
    "total_players\n",
    "\n",
    "    #long code practice\n",
    "# player_ids_unique=[]\n",
    "# for i in game_data[\"SN\"]:\n",
    "#     if i not in player_ids_unique:\n",
    "#         player_ids_unique.append(i)\n",
    "# number_of_players=len(player_ids_unique)\n",
    "# print(number_of_players)"
   ]
  },
  {
   "cell_type": "code",
   "execution_count": 5,
   "metadata": {},
   "outputs": [
    {
     "data": {
      "text/html": [
       "<div>\n",
       "<style scoped>\n",
       "    .dataframe tbody tr th:only-of-type {\n",
       "        vertical-align: middle;\n",
       "    }\n",
       "\n",
       "    .dataframe tbody tr th {\n",
       "        vertical-align: top;\n",
       "    }\n",
       "\n",
       "    .dataframe thead th {\n",
       "        text-align: right;\n",
       "    }\n",
       "</style>\n",
       "<table border=\"1\" class=\"dataframe\">\n",
       "  <thead>\n",
       "    <tr style=\"text-align: right;\">\n",
       "      <th></th>\n",
       "      <th>Total Players</th>\n",
       "    </tr>\n",
       "  </thead>\n",
       "  <tbody>\n",
       "    <tr>\n",
       "      <th>0</th>\n",
       "      <td>573</td>\n",
       "    </tr>\n",
       "  </tbody>\n",
       "</table>\n",
       "</div>"
      ],
      "text/plain": [
       "   Total Players\n",
       "0            573"
      ]
     },
     "execution_count": 5,
     "metadata": {},
     "output_type": "execute_result"
    }
   ],
   "source": [
    "tot_players=pd.DataFrame({\"Total Players\":[total_players]})\n",
    "tot_players\n"
   ]
  },
  {
   "cell_type": "code",
   "execution_count": 6,
   "metadata": {},
   "outputs": [],
   "source": [
    "#PURCHASING ANALYSIS (TOTAL)\n"
   ]
  },
  {
   "cell_type": "code",
   "execution_count": 7,
   "metadata": {},
   "outputs": [
    {
     "data": {
      "text/plain": [
       "183"
      ]
     },
     "execution_count": 7,
     "metadata": {},
     "output_type": "execute_result"
    }
   ],
   "source": [
    "## Number of Unique Items\n",
    "\n",
    "# unique_items=[]\n",
    "# for i in game_data[\"Item ID\"]:\n",
    "#     if i not in unique_items:\n",
    "#         unique_items.append(i)\n",
    "# number_of_unique_items=len(unique_items)\n",
    "# print(number_of_unique_items)\n",
    "\n",
    "unique_items=game_data[\"Item ID\"].value_counts()\n",
    "number_of_unique_items=len(unique_items)\n",
    "number_of_unique_items\n",
    "    "
   ]
  },
  {
   "cell_type": "code",
   "execution_count": 8,
   "metadata": {},
   "outputs": [
    {
     "data": {
      "text/plain": [
       "2.93"
      ]
     },
     "execution_count": 8,
     "metadata": {},
     "output_type": "execute_result"
    }
   ],
   "source": [
    "# Average Purchase Price\n",
    "avg_purchase_price=round(game_data[\"Price\"].mean(),2)\n",
    "avg_purchase_price\n"
   ]
  },
  {
   "cell_type": "code",
   "execution_count": 9,
   "metadata": {},
   "outputs": [
    {
     "data": {
      "text/plain": [
       "780"
      ]
     },
     "execution_count": 9,
     "metadata": {},
     "output_type": "execute_result"
    }
   ],
   "source": [
    "# Total Number of Purchases\n",
    "total_purchases=len(game_data)\n",
    "total_purchases"
   ]
  },
  {
   "cell_type": "code",
   "execution_count": 10,
   "metadata": {},
   "outputs": [
    {
     "data": {
      "text/plain": [
       "2286.33"
      ]
     },
     "execution_count": 10,
     "metadata": {},
     "output_type": "execute_result"
    }
   ],
   "source": [
    "# Total Revenue\n",
    "total_revenue=game_data[\"Price\"].sum()\n",
    "total_revenue"
   ]
  },
  {
   "cell_type": "code",
   "execution_count": 45,
   "metadata": {},
   "outputs": [
    {
     "data": {
      "text/html": [
       "<div>\n",
       "<style scoped>\n",
       "    .dataframe tbody tr th:only-of-type {\n",
       "        vertical-align: middle;\n",
       "    }\n",
       "\n",
       "    .dataframe tbody tr th {\n",
       "        vertical-align: top;\n",
       "    }\n",
       "\n",
       "    .dataframe thead th {\n",
       "        text-align: right;\n",
       "    }\n",
       "</style>\n",
       "<table border=\"1\" class=\"dataframe\">\n",
       "  <thead>\n",
       "    <tr style=\"text-align: right;\">\n",
       "      <th></th>\n",
       "      <th>Number of Unique Items</th>\n",
       "      <th>Average Price</th>\n",
       "      <th>Number of Purchases</th>\n",
       "      <th>Total Revenue</th>\n",
       "    </tr>\n",
       "  </thead>\n",
       "  <tbody>\n",
       "    <tr>\n",
       "      <th>0</th>\n",
       "      <td>183</td>\n",
       "      <td>$2.93</td>\n",
       "      <td>780</td>\n",
       "      <td>$2286.33</td>\n",
       "    </tr>\n",
       "  </tbody>\n",
       "</table>\n",
       "</div>"
      ],
      "text/plain": [
       "   Number of Unique Items Average Price  Number of Purchases Total Revenue\n",
       "0                     183         $2.93                  780      $2286.33"
      ]
     },
     "execution_count": 45,
     "metadata": {},
     "output_type": "execute_result"
    }
   ],
   "source": [
    "purchasing_analysis_total=pd.DataFrame({\"Number of Unique Items\":[number_of_unique_items],\"Average Price\":[avg_purchase_price],\"Number of Purchases\":[total_purchases],\"Total Revenue\":[total_revenue]})\n",
    "purchasing_analysis_total[[\"Number of Unique Items\",\"Number of Purchases\",\"Average Price\",\"Total Revenue\"]]\n",
    "purchasing_analysis_total[\"Average Price\"]=purchasing_analysis_total[\"Average Price\"].map(\"${:.2f}\".format)\n",
    "purchasing_analysis_total[\"Total Revenue\"]=purchasing_analysis_total[\"Total Revenue\"].map(\"${:.2f}\".format)\n",
    "\n",
    "#how do you do two formats per column ($ and , together?)\n",
    "purchasing_analysis_total[[\"Number of Unique Items\",\"Average Price\",\"Number of Purchases\",\"Total Revenue\"]]"
   ]
  },
  {
   "cell_type": "code",
   "execution_count": 12,
   "metadata": {},
   "outputs": [],
   "source": [
    "#GENDER DEMOGRAPHICS\n"
   ]
  },
  {
   "cell_type": "code",
   "execution_count": 13,
   "metadata": {},
   "outputs": [
    {
     "data": {
      "text/plain": [
       "81.15"
      ]
     },
     "execution_count": 13,
     "metadata": {},
     "output_type": "execute_result"
    }
   ],
   "source": [
    "# Percentage and Count of Male Players\n",
    "#Male count\n",
    "males_only_dataframe=game_data.loc[game_data[\"Gender\"]==\"Male\"]\n",
    "unique_males=males_only_dataframe[\"SN\"].value_counts()\n",
    "unique_males_count=len(unique_males)\n",
    "unique_males_count\n",
    "#Male percentage\n",
    "male_percentage=round((unique_males_count/total_players)*100,2)\n",
    "male_percentage"
   ]
  },
  {
   "cell_type": "code",
   "execution_count": null,
   "metadata": {},
   "outputs": [],
   "source": []
  },
  {
   "cell_type": "code",
   "execution_count": 14,
   "metadata": {},
   "outputs": [
    {
     "data": {
      "text/plain": [
       "17.45"
      ]
     },
     "execution_count": 14,
     "metadata": {},
     "output_type": "execute_result"
    }
   ],
   "source": [
    "# Percentage and Count of Female Players\n",
    "#female count\n",
    "females_only_dataframe=game_data.loc[game_data[\"Gender\"]==\"Female\"]\n",
    "unique_females=females_only_dataframe[\"SN\"].value_counts()\n",
    "unique_females_count=len(unique_females)\n",
    "unique_females_count\n",
    "#female percentage\n",
    "female_percentage=round((unique_females_count/total_players)*100,2)\n",
    "female_percentage\n"
   ]
  },
  {
   "cell_type": "code",
   "execution_count": null,
   "metadata": {},
   "outputs": [],
   "source": []
  },
  {
   "cell_type": "code",
   "execution_count": 15,
   "metadata": {},
   "outputs": [
    {
     "data": {
      "text/plain": [
       "1.4"
      ]
     },
     "execution_count": 15,
     "metadata": {},
     "output_type": "execute_result"
    }
   ],
   "source": [
    "# Percentage and Count of Other / Non-Disclosed\n",
    "#count of other/non-disclosed\n",
    "m_o_dataframe=game_data.loc[game_data[\"Gender\"]!=\"Female\"]\n",
    "other_dataframe=m_o_dataframe.loc[m_o_dataframe[\"Gender\"]!=\"Male\"]\n",
    "other_dataframe\n",
    "\n",
    "other_nd_count=total_players-(unique_males_count+unique_females_count)\n",
    "other_nd_count\n",
    "#Percentage other/non-disclosed\n",
    "percentage_other_nd=round((other_nd_count/total_players)*100,2)\n",
    "percentage_other_nd\n"
   ]
  },
  {
   "cell_type": "code",
   "execution_count": 16,
   "metadata": {},
   "outputs": [
    {
     "data": {
      "text/html": [
       "<div>\n",
       "<style scoped>\n",
       "    .dataframe tbody tr th:only-of-type {\n",
       "        vertical-align: middle;\n",
       "    }\n",
       "\n",
       "    .dataframe tbody tr th {\n",
       "        vertical-align: top;\n",
       "    }\n",
       "\n",
       "    .dataframe thead th {\n",
       "        text-align: right;\n",
       "    }\n",
       "</style>\n",
       "<table border=\"1\" class=\"dataframe\">\n",
       "  <thead>\n",
       "    <tr style=\"text-align: right;\">\n",
       "      <th></th>\n",
       "      <th>Player Count</th>\n",
       "      <th>Percentage Purchase</th>\n",
       "    </tr>\n",
       "  </thead>\n",
       "  <tbody>\n",
       "    <tr>\n",
       "      <th>Male</th>\n",
       "      <td>465</td>\n",
       "      <td>%81.15</td>\n",
       "    </tr>\n",
       "    <tr>\n",
       "      <th>Female</th>\n",
       "      <td>100</td>\n",
       "      <td>%17.45</td>\n",
       "    </tr>\n",
       "    <tr>\n",
       "      <th>Other</th>\n",
       "      <td>8</td>\n",
       "      <td>%1.40</td>\n",
       "    </tr>\n",
       "  </tbody>\n",
       "</table>\n",
       "</div>"
      ],
      "text/plain": [
       "        Player Count Percentage Purchase\n",
       "Male             465              %81.15\n",
       "Female           100              %17.45\n",
       "Other              8               %1.40"
      ]
     },
     "execution_count": 16,
     "metadata": {},
     "output_type": "execute_result"
    }
   ],
   "source": [
    "gender_demo_df=pd.DataFrame({\"Player Count\":[unique_males_count,unique_females_count,other_nd_count],\"Percentage Purchase\":[male_percentage,female_percentage,percentage_other_nd]})\n",
    "gender_demo_df.index=[\"Male\",\"Female\",\"Other\"]\n",
    "gender_demo_df=gender_demo_df[[\"Player Count\",\"Percentage Purchase\"]]\n",
    "gender_demo_df[\"Percentage Purchase\"]=gender_demo_df[\"Percentage Purchase\"].map(\"%{:.2f}\".format)\n",
    "gender_demo_df"
   ]
  },
  {
   "cell_type": "code",
   "execution_count": 17,
   "metadata": {},
   "outputs": [],
   "source": [
    "#PURCHASING ANALYSIS(BY GENDER)\n",
    "\n",
    "\n",
    "\n"
   ]
  },
  {
   "cell_type": "code",
   "execution_count": 18,
   "metadata": {},
   "outputs": [
    {
     "data": {
      "text/plain": [
       "11"
      ]
     },
     "execution_count": 18,
     "metadata": {},
     "output_type": "execute_result"
    }
   ],
   "source": [
    "# Purchase Count by Gender\n",
    "#Male purchase count\n",
    "male_purchases=len(males_only_dataframe)\n",
    "male_purchases\n",
    "\n",
    "#Female purchase count\n",
    "female_purchases=len(females_only_dataframe)\n",
    "female_purchases\n",
    "\n",
    "#other purchase count\n",
    "other_purchases=len(other_dataframe)\n",
    "other_purchases"
   ]
  },
  {
   "cell_type": "code",
   "execution_count": null,
   "metadata": {},
   "outputs": [],
   "source": []
  },
  {
   "cell_type": "code",
   "execution_count": 19,
   "metadata": {},
   "outputs": [
    {
     "data": {
      "text/plain": [
       "3.25"
      ]
     },
     "execution_count": 19,
     "metadata": {},
     "output_type": "execute_result"
    }
   ],
   "source": [
    "# Average Purchase Price by Gender\n",
    "#average male purchase price\n",
    "avg_male_price=round(males_only_dataframe[\"Price\"].sum()/male_purchases,2)\n",
    "avg_male_price\n",
    "#average female purchase price\n",
    "avg_female_price=round(females_only_dataframe[\"Price\"].sum()/female_purchases,2)\n",
    "avg_female_price\n",
    "\n",
    "#average other purchase price\n",
    "avg_other_price=round(other_dataframe[\"Price\"].sum()/other_purchases,2)\n",
    "avg_other_price"
   ]
  },
  {
   "cell_type": "code",
   "execution_count": null,
   "metadata": {},
   "outputs": [],
   "source": []
  },
  {
   "cell_type": "code",
   "execution_count": 20,
   "metadata": {},
   "outputs": [
    {
     "data": {
      "text/plain": [
       "35.74"
      ]
     },
     "execution_count": 20,
     "metadata": {},
     "output_type": "execute_result"
    }
   ],
   "source": [
    "# Total Purchase Value by Gender\n",
    "#male\n",
    "total_m_value=round(males_only_dataframe[\"Price\"].sum(),2)\n",
    "total_m_value\n",
    "\n",
    "#female\n",
    "total_f_value=round(females_only_dataframe[\"Price\"].sum(),2)\n",
    "total_f_value\n",
    "\n",
    "#other\n",
    "total_o_value=round(other_dataframe[\"Price\"].sum(),2)\n",
    "total_o_value"
   ]
  },
  {
   "cell_type": "code",
   "execution_count": null,
   "metadata": {},
   "outputs": [],
   "source": []
  },
  {
   "cell_type": "code",
   "execution_count": 21,
   "metadata": {},
   "outputs": [
    {
     "data": {
      "text/plain": [
       "973.0598752903134"
      ]
     },
     "execution_count": 21,
     "metadata": {},
     "output_type": "execute_result"
    }
   ],
   "source": [
    "# Normalized Totals by Gender\n",
    "totals=[total_m_value,total_f_value,total_o_value]\n",
    "totals_dataframe=pd.DataFrame(totals)\n",
    "totals_dataframe.head()\n",
    "\n",
    "totals_dataframe[0].mean()\n",
    "totals_dataframe[0].std()\n",
    "#Male\n",
    "#Female"
   ]
  },
  {
   "cell_type": "code",
   "execution_count": 22,
   "metadata": {},
   "outputs": [],
   "source": [
    "gendered_purch_analysis=pd.DataFrame({\"Gender\":[\"Male\",\"Female\",\"Other/Non-Disclosed\"],\"Purchase Count\":[male_purchases,female_purchases,other_purchases],\n",
    "                                     \"Average Purchase Price\":[avg_male_price,avg_female_price,avg_other_price],\n",
    "                                     \"Total Purchase Value\":[total_m_value,total_f_value,total_o_value]\n",
    "                                    \n",
    "                                    })\n",
    "gendered_purch_analysis=gendered_purch_analysis[[\"Gender\",\"Purchase Count\",\"Average Purchase Price\",\"Total Purchase Value\"]]\n",
    "\n",
    "\n",
    "#gendered_purch_analysis"
   ]
  },
  {
   "cell_type": "code",
   "execution_count": 23,
   "metadata": {},
   "outputs": [
    {
     "data": {
      "text/html": [
       "<div>\n",
       "<style scoped>\n",
       "    .dataframe tbody tr th:only-of-type {\n",
       "        vertical-align: middle;\n",
       "    }\n",
       "\n",
       "    .dataframe tbody tr th {\n",
       "        vertical-align: top;\n",
       "    }\n",
       "\n",
       "    .dataframe thead th {\n",
       "        text-align: right;\n",
       "    }\n",
       "</style>\n",
       "<table border=\"1\" class=\"dataframe\">\n",
       "  <thead>\n",
       "    <tr style=\"text-align: right;\">\n",
       "      <th></th>\n",
       "      <th>Gender</th>\n",
       "      <th>Purchase Count</th>\n",
       "      <th>Average Purchase Price</th>\n",
       "      <th>Total Purchase Value</th>\n",
       "      <th>Normalized Totals</th>\n",
       "    </tr>\n",
       "  </thead>\n",
       "  <tbody>\n",
       "    <tr>\n",
       "      <th>0</th>\n",
       "      <td>Male</td>\n",
       "      <td>633</td>\n",
       "      <td>$2.95</td>\n",
       "      <td>$1867.68</td>\n",
       "      <td>$4.02</td>\n",
       "    </tr>\n",
       "    <tr>\n",
       "      <th>1</th>\n",
       "      <td>Female</td>\n",
       "      <td>136</td>\n",
       "      <td>$2.82</td>\n",
       "      <td>$382.91</td>\n",
       "      <td>$3.83</td>\n",
       "    </tr>\n",
       "    <tr>\n",
       "      <th>2</th>\n",
       "      <td>Other/Non-Disclosed</td>\n",
       "      <td>11</td>\n",
       "      <td>$3.25</td>\n",
       "      <td>$35.74</td>\n",
       "      <td>$4.47</td>\n",
       "    </tr>\n",
       "  </tbody>\n",
       "</table>\n",
       "</div>"
      ],
      "text/plain": [
       "                Gender  Purchase Count Average Purchase Price  \\\n",
       "0                 Male             633                  $2.95   \n",
       "1               Female             136                  $2.82   \n",
       "2  Other/Non-Disclosed              11                  $3.25   \n",
       "\n",
       "  Total Purchase Value Normalized Totals  \n",
       "0             $1867.68             $4.02  \n",
       "1              $382.91             $3.83  \n",
       "2               $35.74             $4.47  "
      ]
     },
     "execution_count": 23,
     "metadata": {},
     "output_type": "execute_result"
    }
   ],
   "source": [
    "\n",
    "unique_counts=[unique_males_count,unique_females_count,other_nd_count]\n",
    "normal=((gendered_purch_analysis[\"Total Purchase Value\"])/(unique_counts))\n",
    "\n",
    "\n",
    "gendered_purch_analysis[\"Normalized Totals\"]=normal\n",
    "\n",
    "gendered_purch_analysis[\"Average Purchase Price\"]=gendered_purch_analysis[\"Average Purchase Price\"].map(\"${:.2f}\".format)\n",
    "gendered_purch_analysis[\"Total Purchase Value\"]=gendered_purch_analysis[\"Total Purchase Value\"].map(\"${:.2f}\".format)\n",
    "gendered_purch_analysis[\"Normalized Totals\"]=gendered_purch_analysis[\"Normalized Totals\"].map(\"${:.2f}\".format)\n",
    "\n",
    "gendered_purch_analysis.head()\n"
   ]
  },
  {
   "cell_type": "code",
   "execution_count": 24,
   "metadata": {},
   "outputs": [],
   "source": [
    "##AGE DEMOGRAPHICS\n",
    "\n",
    " \n",
    "\n",
    "\n",
    "\n"
   ]
  },
  {
   "cell_type": "code",
   "execution_count": 25,
   "metadata": {},
   "outputs": [
    {
     "data": {
      "text/html": [
       "<div>\n",
       "<style scoped>\n",
       "    .dataframe tbody tr th:only-of-type {\n",
       "        vertical-align: middle;\n",
       "    }\n",
       "\n",
       "    .dataframe tbody tr th {\n",
       "        vertical-align: top;\n",
       "    }\n",
       "\n",
       "    .dataframe thead th {\n",
       "        text-align: right;\n",
       "    }\n",
       "</style>\n",
       "<table border=\"1\" class=\"dataframe\">\n",
       "  <thead>\n",
       "    <tr style=\"text-align: right;\">\n",
       "      <th></th>\n",
       "      <th>Age</th>\n",
       "      <th>Gender</th>\n",
       "      <th>Item ID</th>\n",
       "      <th>Item Name</th>\n",
       "      <th>Price</th>\n",
       "      <th>SN</th>\n",
       "      <th>Player Age Group</th>\n",
       "    </tr>\n",
       "  </thead>\n",
       "  <tbody>\n",
       "    <tr>\n",
       "      <th>0</th>\n",
       "      <td>38</td>\n",
       "      <td>Male</td>\n",
       "      <td>165</td>\n",
       "      <td>Bone Crushing Silver Skewer</td>\n",
       "      <td>3.37</td>\n",
       "      <td>Aelalis34</td>\n",
       "      <td>35-39</td>\n",
       "    </tr>\n",
       "    <tr>\n",
       "      <th>1</th>\n",
       "      <td>21</td>\n",
       "      <td>Male</td>\n",
       "      <td>119</td>\n",
       "      <td>Stormbringer, Dark Blade of Ending Misery</td>\n",
       "      <td>2.32</td>\n",
       "      <td>Eolo46</td>\n",
       "      <td>20-24</td>\n",
       "    </tr>\n",
       "    <tr>\n",
       "      <th>2</th>\n",
       "      <td>34</td>\n",
       "      <td>Male</td>\n",
       "      <td>174</td>\n",
       "      <td>Primitive Blade</td>\n",
       "      <td>2.46</td>\n",
       "      <td>Assastnya25</td>\n",
       "      <td>30-34</td>\n",
       "    </tr>\n",
       "    <tr>\n",
       "      <th>3</th>\n",
       "      <td>21</td>\n",
       "      <td>Male</td>\n",
       "      <td>92</td>\n",
       "      <td>Final Critic</td>\n",
       "      <td>1.36</td>\n",
       "      <td>Pheusrical25</td>\n",
       "      <td>20-24</td>\n",
       "    </tr>\n",
       "    <tr>\n",
       "      <th>4</th>\n",
       "      <td>23</td>\n",
       "      <td>Male</td>\n",
       "      <td>63</td>\n",
       "      <td>Stormfury Mace</td>\n",
       "      <td>1.27</td>\n",
       "      <td>Aela59</td>\n",
       "      <td>20-24</td>\n",
       "    </tr>\n",
       "  </tbody>\n",
       "</table>\n",
       "</div>"
      ],
      "text/plain": [
       "   Age Gender  Item ID                                  Item Name  Price  \\\n",
       "0   38   Male      165                Bone Crushing Silver Skewer   3.37   \n",
       "1   21   Male      119  Stormbringer, Dark Blade of Ending Misery   2.32   \n",
       "2   34   Male      174                            Primitive Blade   2.46   \n",
       "3   21   Male       92                               Final Critic   1.36   \n",
       "4   23   Male       63                             Stormfury Mace   1.27   \n",
       "\n",
       "             SN Player Age Group  \n",
       "0     Aelalis34            35-39  \n",
       "1        Eolo46            20-24  \n",
       "2   Assastnya25            30-34  \n",
       "3  Pheusrical25            20-24  \n",
       "4        Aela59            20-24  "
      ]
     },
     "execution_count": 25,
     "metadata": {},
     "output_type": "execute_result"
    }
   ],
   "source": [
    "bins=[0,9,14,19,24,29,34,39,44,49] #bin's boolean is by default right==True which means intervals are (a,b],(b,c],(c,d] and si on\n",
    "group_names=[\"<10\",\"10-14\",\"15-19\",\"20-24\",\n",
    "            \"25-29\",\"30-34\",\"35-39\",\"40-44\",\"44+\"\n",
    "            ]\n",
    "game_data[\"Player Age Group\"]=pd.cut(game_data[\"Age\"],bins,labels=group_names)\n",
    "game_data.head()"
   ]
  },
  {
   "cell_type": "code",
   "execution_count": 51,
   "metadata": {},
   "outputs": [],
   "source": [
    "game_data_grouped=game_data.groupby(\"Player Age Group\")\n",
    "\n",
    "purch_count_age=game_data_grouped[[\"Item ID\"]].count()\n",
    "\n",
    "purch_count_age=purch_count_age.rename(columns={\"Item ID\":\"Purchase Count\"})\n",
    "\n",
    "\n"
   ]
  },
  {
   "cell_type": "code",
   "execution_count": 27,
   "metadata": {},
   "outputs": [],
   "source": [
    "#Average Purchase Price\n",
    "\n",
    "\n",
    "avg_purch_price=game_data_grouped[[\"Price\"]].mean()\n",
    "\n",
    "\n",
    "purch_count_age[\"Average Purchase Price\"]=round(avg_purch_price,2)\n",
    "purch_count_age_df=pd.DataFrame(purch_count_age)"
   ]
  },
  {
   "cell_type": "code",
   "execution_count": 28,
   "metadata": {},
   "outputs": [],
   "source": [
    "#Total Purchase Value\n",
    "total_purch_val=game_data_grouped[[\"Price\"]].sum()\n",
    "\n",
    "\n",
    "purch_count_age_df[\"Total Purchase Value\"]=total_purch_val\n"
   ]
  },
  {
   "cell_type": "code",
   "execution_count": 29,
   "metadata": {},
   "outputs": [
    {
     "data": {
      "text/html": [
       "<div>\n",
       "<style scoped>\n",
       "    .dataframe tbody tr th:only-of-type {\n",
       "        vertical-align: middle;\n",
       "    }\n",
       "\n",
       "    .dataframe tbody tr th {\n",
       "        vertical-align: top;\n",
       "    }\n",
       "\n",
       "    .dataframe thead th {\n",
       "        text-align: right;\n",
       "    }\n",
       "</style>\n",
       "<table border=\"1\" class=\"dataframe\">\n",
       "  <thead>\n",
       "    <tr style=\"text-align: right;\">\n",
       "      <th></th>\n",
       "      <th>Purchase Count</th>\n",
       "      <th>Average Purchase Price</th>\n",
       "      <th>Total Purchase Value</th>\n",
       "    </tr>\n",
       "    <tr>\n",
       "      <th>Player Age Group</th>\n",
       "      <th></th>\n",
       "      <th></th>\n",
       "      <th></th>\n",
       "    </tr>\n",
       "  </thead>\n",
       "  <tbody>\n",
       "    <tr>\n",
       "      <th>&lt;10</th>\n",
       "      <td>28</td>\n",
       "      <td>2.98</td>\n",
       "      <td>83.46</td>\n",
       "    </tr>\n",
       "    <tr>\n",
       "      <th>10-14</th>\n",
       "      <td>35</td>\n",
       "      <td>2.77</td>\n",
       "      <td>96.95</td>\n",
       "    </tr>\n",
       "    <tr>\n",
       "      <th>15-19</th>\n",
       "      <td>133</td>\n",
       "      <td>2.91</td>\n",
       "      <td>386.42</td>\n",
       "    </tr>\n",
       "    <tr>\n",
       "      <th>20-24</th>\n",
       "      <td>336</td>\n",
       "      <td>2.91</td>\n",
       "      <td>978.77</td>\n",
       "    </tr>\n",
       "    <tr>\n",
       "      <th>25-29</th>\n",
       "      <td>125</td>\n",
       "      <td>2.96</td>\n",
       "      <td>370.33</td>\n",
       "    </tr>\n",
       "  </tbody>\n",
       "</table>\n",
       "</div>"
      ],
      "text/plain": [
       "                  Purchase Count  Average Purchase Price  Total Purchase Value\n",
       "Player Age Group                                                              \n",
       "<10                           28                    2.98                 83.46\n",
       "10-14                         35                    2.77                 96.95\n",
       "15-19                        133                    2.91                386.42\n",
       "20-24                        336                    2.91                978.77\n",
       "25-29                        125                    2.96                370.33"
      ]
     },
     "execution_count": 29,
     "metadata": {},
     "output_type": "execute_result"
    }
   ],
   "source": [
    "organized_table=purch_count_age_df[[\"Purchase Count\",\"Average Purchase Price\",\"Total Purchase Value\"]]\n",
    "\n",
    "organized_table.head()"
   ]
  },
  {
   "cell_type": "code",
   "execution_count": 91,
   "metadata": {},
   "outputs": [
    {
     "data": {
      "text/plain": [
       "Player Age Group  SN            \n",
       "<10               Lisistaya47       3\n",
       "                  Eosurdru76        2\n",
       "                  Iladarla40        2\n",
       "                  Ingatcil75        2\n",
       "                  Lassjask63        2\n",
       "                  Liri91            2\n",
       "                  Lisirra55         2\n",
       "                  Yarithsurgue62    2\n",
       "                  Eullydru35        1\n",
       "                  Frichjaskan98     1\n",
       "                  Heosurnuru52      1\n",
       "                  Ilophos58         1\n",
       "                  Jiskosiala43      1\n",
       "                  Reulae52          1\n",
       "                  Saralp86          1\n",
       "                  Silinu63          1\n",
       "                  Sundastnya66      1\n",
       "                  Tyaenasti87       1\n",
       "                  Undjasksya56      1\n",
       "10-14             Qarwen67          4\n",
       "                  Lirtosia72        3\n",
       "                  Chanosiast43      2\n",
       "                  Deural48          2\n",
       "                  Eoralphos86       2\n",
       "                  Ethrusuard41      2\n",
       "                  Lirtossa78        2\n",
       "                  Sondossa55        2\n",
       "                  Streural92        2\n",
       "                  Aeral97           1\n",
       "                  Aillycal84        1\n",
       "                                   ..\n",
       "35-39             Seosri62          2\n",
       "                  Tyisriphos58      2\n",
       "                  Airal46           1\n",
       "                  Chanassa48        1\n",
       "                  Cosadar58         1\n",
       "                  Filon68           1\n",
       "                  Filrion59         1\n",
       "                  Hala31            1\n",
       "                  Inguard95         1\n",
       "                  Iskistasda86      1\n",
       "                  Isri59            1\n",
       "                  Lirtossan50       1\n",
       "                  Phyali88          1\n",
       "                  Ralasti48         1\n",
       "                  Saena74           1\n",
       "                  Tridaira71        1\n",
       "                  Wailin72          1\n",
       "                  Yaristi64         1\n",
       "                  Yasrisu92         1\n",
       "40-44             Yasriphos60       3\n",
       "                  Chanosiaya39      2\n",
       "                  Indcil77          2\n",
       "                  Sundast29         2\n",
       "                  Yaralnura48       2\n",
       "                  Chamadar27        1\n",
       "                  Lisista27         1\n",
       "                  Raesurdil91       1\n",
       "                  Saelollop56       1\n",
       "                  Yarmol79          1\n",
       "44+               Marassaya49       1\n",
       "Name: SN, Length: 573, dtype: int64"
      ]
     },
     "execution_count": 91,
     "metadata": {},
     "output_type": "execute_result"
    }
   ],
   "source": [
    "\n",
    "\n",
    "\n",
    "#unique players in age group\n",
    "# uniques=game_data.groupby([\"SN\",\"Player Age Group\"])[\"Player Age Group\"].agg(['count'])\n",
    "# uniques\n",
    "\n",
    "\n",
    "#tried the above and the following to get the unique player count from each age group, I get close but\n",
    "#cannot get the actual wanted way to report\n",
    "#once the unique number of players from each age group is down:\n",
    "#normalized values for the above table are easy to evaluae: Total Purchase Value/Unique players from each age group\n",
    "x=game_data_grouped[\"SN\"].value_counts()\n",
    "x\n",
    "\n",
    "#Normalized Totals\n",
    "#unique players in each age group\n",
    "#percent player in each age group\n",
    "\n",
    "\n"
   ]
  },
  {
   "cell_type": "code",
   "execution_count": null,
   "metadata": {},
   "outputs": [],
   "source": [
    "##TOP SPENDERS:\n",
    "# SN\n",
    "# Purchase Count\n",
    "# Average Purchase Price\n",
    "# Total Purchase Value\n"
   ]
  },
  {
   "cell_type": "code",
   "execution_count": 31,
   "metadata": {},
   "outputs": [
    {
     "data": {
      "text/html": [
       "<div>\n",
       "<style scoped>\n",
       "    .dataframe tbody tr th:only-of-type {\n",
       "        vertical-align: middle;\n",
       "    }\n",
       "\n",
       "    .dataframe tbody tr th {\n",
       "        vertical-align: top;\n",
       "    }\n",
       "\n",
       "    .dataframe thead th {\n",
       "        text-align: right;\n",
       "    }\n",
       "</style>\n",
       "<table border=\"1\" class=\"dataframe\">\n",
       "  <thead>\n",
       "    <tr style=\"text-align: right;\">\n",
       "      <th></th>\n",
       "      <th>Purchase Count</th>\n",
       "      <th>Average Purchase Price</th>\n",
       "      <th>Total Purchase Value</th>\n",
       "    </tr>\n",
       "    <tr>\n",
       "      <th>SN</th>\n",
       "      <th></th>\n",
       "      <th></th>\n",
       "      <th></th>\n",
       "    </tr>\n",
       "  </thead>\n",
       "  <tbody>\n",
       "    <tr>\n",
       "      <th>Undirrala66</th>\n",
       "      <td>5</td>\n",
       "      <td>$3.41</td>\n",
       "      <td>$17.06</td>\n",
       "    </tr>\n",
       "    <tr>\n",
       "      <th>Saedue76</th>\n",
       "      <td>4</td>\n",
       "      <td>$3.39</td>\n",
       "      <td>$13.56</td>\n",
       "    </tr>\n",
       "    <tr>\n",
       "      <th>Mindimnya67</th>\n",
       "      <td>4</td>\n",
       "      <td>$3.18</td>\n",
       "      <td>$12.74</td>\n",
       "    </tr>\n",
       "    <tr>\n",
       "      <th>Haellysu29</th>\n",
       "      <td>3</td>\n",
       "      <td>$4.24</td>\n",
       "      <td>$12.73</td>\n",
       "    </tr>\n",
       "    <tr>\n",
       "      <th>Eoda93</th>\n",
       "      <td>3</td>\n",
       "      <td>$3.86</td>\n",
       "      <td>$11.58</td>\n",
       "    </tr>\n",
       "  </tbody>\n",
       "</table>\n",
       "</div>"
      ],
      "text/plain": [
       "             Purchase Count Average Purchase Price Total Purchase Value\n",
       "SN                                                                     \n",
       "Undirrala66               5                  $3.41               $17.06\n",
       "Saedue76                  4                  $3.39               $13.56\n",
       "Mindimnya67               4                  $3.18               $12.74\n",
       "Haellysu29                3                  $4.24               $12.73\n",
       "Eoda93                    3                  $3.86               $11.58"
      ]
     },
     "execution_count": 31,
     "metadata": {},
     "output_type": "execute_result"
    }
   ],
   "source": [
    "\n",
    "\n",
    "top_spenders=game_data.groupby('SN')['Price'].agg(['sum','count']).sort_values('sum',ascending=False)\n",
    "top_spenders=top_spenders.rename(columns={\"sum\":\"Total Purchase Value\",\"count\":\"Purchase Count\"})\n",
    "\n",
    "top_spenders_df=pd.DataFrame(top_spenders)\n",
    "avg_purch_val=round(top_spenders_df[\"Total Purchase Value\"]/top_spenders_df[\"Purchase Count\"],2)\n",
    "top_spenders_df[\"Average Purchase Price\"]=avg_purch_val\n",
    "\n",
    "\n",
    "reordered_table=top_spenders_df[[\"Purchase Count\",\"Average Purchase Price\",\"Total Purchase Value\"]]\n",
    "\n",
    "reordered_table[\"Average Purchase Price\"]=reordered_table['Average Purchase Price'].map(\"${:.2f}\".format)\n",
    "reordered_table[\"Total Purchase Value\"]=reordered_table['Total Purchase Value'].map(\"${:.2f}\".format)\n",
    "\n",
    "reordered_table.head(5)\n",
    "\n"
   ]
  },
  {
   "cell_type": "code",
   "execution_count": null,
   "metadata": {},
   "outputs": [],
   "source": [
    "##MOST POPULAR ITEMS:\n",
    "# Item ID\n",
    "# Item Name\n",
    "# Purchase Count\n",
    "# Item Price\n",
    "# Total Purchase Value"
   ]
  },
  {
   "cell_type": "code",
   "execution_count": 41,
   "metadata": {},
   "outputs": [
    {
     "data": {
      "text/html": [
       "<div>\n",
       "<style scoped>\n",
       "    .dataframe tbody tr th:only-of-type {\n",
       "        vertical-align: middle;\n",
       "    }\n",
       "\n",
       "    .dataframe tbody tr th {\n",
       "        vertical-align: top;\n",
       "    }\n",
       "\n",
       "    .dataframe thead th {\n",
       "        text-align: right;\n",
       "    }\n",
       "</style>\n",
       "<table border=\"1\" class=\"dataframe\">\n",
       "  <thead>\n",
       "    <tr style=\"text-align: right;\">\n",
       "      <th></th>\n",
       "      <th></th>\n",
       "      <th></th>\n",
       "      <th>Total Purchase Value</th>\n",
       "      <th>Purchase Count</th>\n",
       "    </tr>\n",
       "    <tr>\n",
       "      <th>Item ID</th>\n",
       "      <th>Item Name</th>\n",
       "      <th>Price</th>\n",
       "      <th></th>\n",
       "      <th></th>\n",
       "    </tr>\n",
       "  </thead>\n",
       "  <tbody>\n",
       "    <tr>\n",
       "      <th>39</th>\n",
       "      <th>Betrayal, Whisper of Grieving Widows</th>\n",
       "      <th>2.35</th>\n",
       "      <td>25.85</td>\n",
       "      <td>11</td>\n",
       "    </tr>\n",
       "    <tr>\n",
       "      <th>84</th>\n",
       "      <th>Arcane Gem</th>\n",
       "      <th>2.23</th>\n",
       "      <td>24.53</td>\n",
       "      <td>11</td>\n",
       "    </tr>\n",
       "    <tr>\n",
       "      <th>31</th>\n",
       "      <th>Trickster</th>\n",
       "      <th>2.07</th>\n",
       "      <td>18.63</td>\n",
       "      <td>9</td>\n",
       "    </tr>\n",
       "    <tr>\n",
       "      <th>175</th>\n",
       "      <th>Woeful Adamantite Claymore</th>\n",
       "      <th>1.24</th>\n",
       "      <td>11.16</td>\n",
       "      <td>9</td>\n",
       "    </tr>\n",
       "    <tr>\n",
       "      <th>13</th>\n",
       "      <th>Serenity</th>\n",
       "      <th>1.49</th>\n",
       "      <td>13.41</td>\n",
       "      <td>9</td>\n",
       "    </tr>\n",
       "  </tbody>\n",
       "</table>\n",
       "</div>"
      ],
      "text/plain": [
       "                                                    Total Purchase Value  \\\n",
       "Item ID Item Name                            Price                         \n",
       "39      Betrayal, Whisper of Grieving Widows 2.35                  25.85   \n",
       "84      Arcane Gem                           2.23                  24.53   \n",
       "31      Trickster                            2.07                  18.63   \n",
       "175     Woeful Adamantite Claymore           1.24                  11.16   \n",
       "13      Serenity                             1.49                  13.41   \n",
       "\n",
       "                                                    Purchase Count  \n",
       "Item ID Item Name                            Price                  \n",
       "39      Betrayal, Whisper of Grieving Widows 2.35               11  \n",
       "84      Arcane Gem                           2.23               11  \n",
       "31      Trickster                            2.07                9  \n",
       "175     Woeful Adamantite Claymore           1.24                9  \n",
       "13      Serenity                             1.49                9  "
      ]
     },
     "execution_count": 41,
     "metadata": {},
     "output_type": "execute_result"
    }
   ],
   "source": [
    "\n",
    "popular_items=game_data.groupby(['Item ID','Item Name','Price'])['Price'].agg(['sum','count']).sort_values('count',ascending=False)\n",
    "\n",
    "popular_items_df=pd.DataFrame(popular_items)\n",
    "\n",
    "popular_items_df_renamed=popular_items_df.rename(columns={\"Price\":\"Item Price\",\"count\":\"Purchase Count\",\"Price\":\"Item Price\",\"sum\":\"Total Purchase Value\"})\n",
    "popular_items_df_renamed[[\"Purchase Count\",\"Total Purchase Value\"]]\n",
    "\n",
    "\n",
    "#price column is an index column, couldn't reset it so that I could format...\n",
    "#popular_items_df_renamed['Price']=popular_items_df_renamed['Price'].map('${:.2}'.format)\n",
    "\n",
    "popular_items_df_renamed.head(5)\n"
   ]
  },
  {
   "cell_type": "code",
   "execution_count": null,
   "metadata": {},
   "outputs": [],
   "source": [
    "##MOST PROFITABLE ITEMS\n",
    "\n",
    "# Item ID\n",
    "# Item Name\n",
    "# Purchase Count\n",
    "# Item Price\n",
    "# Total Purchase Value"
   ]
  },
  {
   "cell_type": "code",
   "execution_count": 33,
   "metadata": {},
   "outputs": [
    {
     "data": {
      "text/html": [
       "<div>\n",
       "<style scoped>\n",
       "    .dataframe tbody tr th:only-of-type {\n",
       "        vertical-align: middle;\n",
       "    }\n",
       "\n",
       "    .dataframe tbody tr th {\n",
       "        vertical-align: top;\n",
       "    }\n",
       "\n",
       "    .dataframe thead th {\n",
       "        text-align: right;\n",
       "    }\n",
       "</style>\n",
       "<table border=\"1\" class=\"dataframe\">\n",
       "  <thead>\n",
       "    <tr style=\"text-align: right;\">\n",
       "      <th></th>\n",
       "      <th></th>\n",
       "      <th></th>\n",
       "      <th>Total Purchase Value</th>\n",
       "      <th>Purchase Count</th>\n",
       "    </tr>\n",
       "    <tr>\n",
       "      <th>Item ID</th>\n",
       "      <th>Item Name</th>\n",
       "      <th>Price</th>\n",
       "      <th></th>\n",
       "      <th></th>\n",
       "    </tr>\n",
       "  </thead>\n",
       "  <tbody>\n",
       "    <tr>\n",
       "      <th>34</th>\n",
       "      <th>Retribution Axe</th>\n",
       "      <th>4.14</th>\n",
       "      <td>37.26</td>\n",
       "      <td>9</td>\n",
       "    </tr>\n",
       "    <tr>\n",
       "      <th>115</th>\n",
       "      <th>Spectral Diamond Doomblade</th>\n",
       "      <th>4.25</th>\n",
       "      <td>29.75</td>\n",
       "      <td>7</td>\n",
       "    </tr>\n",
       "    <tr>\n",
       "      <th>32</th>\n",
       "      <th>Orenmir</th>\n",
       "      <th>4.95</th>\n",
       "      <td>29.70</td>\n",
       "      <td>6</td>\n",
       "    </tr>\n",
       "    <tr>\n",
       "      <th>103</th>\n",
       "      <th>Singed Scalpel</th>\n",
       "      <th>4.87</th>\n",
       "      <td>29.22</td>\n",
       "      <td>6</td>\n",
       "    </tr>\n",
       "    <tr>\n",
       "      <th>107</th>\n",
       "      <th>Splitter, Foe Of Subtlety</th>\n",
       "      <th>3.61</th>\n",
       "      <td>28.88</td>\n",
       "      <td>8</td>\n",
       "    </tr>\n",
       "  </tbody>\n",
       "</table>\n",
       "</div>"
      ],
      "text/plain": [
       "                                          Total Purchase Value  Purchase Count\n",
       "Item ID Item Name                  Price                                      \n",
       "34      Retribution Axe            4.14                  37.26               9\n",
       "115     Spectral Diamond Doomblade 4.25                  29.75               7\n",
       "32      Orenmir                    4.95                  29.70               6\n",
       "103     Singed Scalpel             4.87                  29.22               6\n",
       "107     Splitter, Foe Of Subtlety  3.61                  28.88               8"
      ]
     },
     "execution_count": 33,
     "metadata": {},
     "output_type": "execute_result"
    }
   ],
   "source": [
    "\n",
    "profitable_items=game_data.groupby(['Item ID','Item Name','Price'])['Price'].agg(['sum','count']).sort_values('sum',ascending=False)\n",
    "\n",
    "profitable_items_df=pd.DataFrame(profitable_items)\n",
    "\n",
    "profitable_items_df_renamed=profitable_items_df.rename(columns={\"Price\":\"Item Price\",\"count\":\"Purchase Count\",\"Price\":\"Item Price\",\"sum\":\"Total Purchase Value\"})\n",
    "profitable_items_df_renamed[[\"Purchase Count\",\"Total Purchase Value\"]]\n",
    "\n",
    "# profitable_items_df_renamed['Price']=profitable_items_df_renamed.reset_index\n",
    "profitable_items_df_renamed.head(5)"
   ]
  },
  {
   "cell_type": "code",
   "execution_count": null,
   "metadata": {},
   "outputs": [],
   "source": []
  }
 ],
 "metadata": {
  "kernelspec": {
   "display_name": "Python 3",
   "language": "python",
   "name": "python3"
  },
  "language_info": {
   "codemirror_mode": {
    "name": "ipython",
    "version": 3
   },
   "file_extension": ".py",
   "mimetype": "text/x-python",
   "name": "python",
   "nbconvert_exporter": "python",
   "pygments_lexer": "ipython3",
   "version": "3.6.4"
  }
 },
 "nbformat": 4,
 "nbformat_minor": 2
}
